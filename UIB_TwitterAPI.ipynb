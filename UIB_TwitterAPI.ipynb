{
 "cells": [
  {
   "cell_type": "code",
   "execution_count": 110,
   "metadata": {
    "collapsed": true
   },
   "outputs": [],
   "source": [
    "# imported modules\n",
    "import tweepy # for accessing the twitter api\n",
    "import numpy as np\n",
    "import matplotlib.pyplot as plot # for plotting graphs\n",
    "import pandas as pd # for building data frames\n",
    "import csv #Import csv\n",
    "\n",
    "%matplotlib inline"
   ]
  },
  {
   "cell_type": "code",
   "execution_count": 111,
   "metadata": {},
   "outputs": [],
   "source": [
    "# Twitter API keys-- please remove these if you're pushing to GitHub.\n",
    "# see https://apps.twitter.com/\n",
    "\n",
    "# consumer keys\n",
    "TWITTER_CONSUMER_KEY = 'Ny126tei6203OIPiHVlHC86C4'\n",
    "TWITTER_CONSUMER_SECRET = 'G2OGIalFhjiFw763i98RHLieeiP81Ed1gGAvlRNH1UwJVJQvPa'\n",
    "\n",
    "# access keys\n",
    "TWITTER_ACCESS_TOKEN = '15672073-ZqvD1dILS4hQRZQNctMoVe3PZNi3M7WgUcTsptmAc'\n",
    "TWITTER_ACCESS_SECRET = 'i3rrSGAI8hz5txdUATvgmy1q1UgDafri0PtcW7EqQtmjc'"
   ]
  },
  {
   "cell_type": "code",
   "execution_count": 112,
   "metadata": {},
   "outputs": [],
   "source": [
    "def twitter_setup():\n",
    "    \"\"\"\n",
    "    Utility to set up an application using\n",
    "    the Twitter API\n",
    "    \"\"\"\n",
    "    auth = tweepy.OAuthHandler(TWITTER_CONSUMER_KEY, TWITTER_CONSUMER_SECRET) # sets up OAuth\n",
    "    auth.set_access_token(TWITTER_ACCESS_TOKEN, TWITTER_ACCESS_SECRET) # sets up access\n",
    "    \n",
    "    return tweepy.API(auth)"
   ]
  },
  {
   "cell_type": "code",
   "execution_count": 113,
   "metadata": {},
   "outputs": [
    {
     "name": "stdout",
     "output_type": "stream",
     "text": [
      "Number of tweets slurped from @mirpedrona: 22\n",
      "['__class__', '__delattr__', '__dict__', '__dir__', '__doc__', '__eq__', '__format__', '__ge__', '__getattribute__', '__getstate__', '__gt__', '__hash__', '__init__', '__init_subclass__', '__le__', '__lt__', '__module__', '__ne__', '__new__', '__reduce__', '__reduce_ex__', '__repr__', '__setattr__', '__sizeof__', '__str__', '__subclasshook__', '__weakref__', '_api', '_json', 'author', 'contributors', 'coordinates', 'created_at', 'destroy', 'entities', 'favorite', 'favorite_count', 'favorited', 'geo', 'id', 'id_str', 'in_reply_to_screen_name', 'in_reply_to_status_id', 'in_reply_to_status_id_str', 'in_reply_to_user_id', 'in_reply_to_user_id_str', 'is_quote_status', 'lang', 'parse', 'parse_list', 'place', 'possibly_sensitive', 'retweet', 'retweet_count', 'retweeted', 'retweets', 'source', 'source_url', 'text', 'truncated', 'user']\n"
     ]
    }
   ],
   "source": [
    "# Quick test to see if it works\n",
    "USER_TO_SLURP = 'mirpedrona' # note: case sensitive\n",
    "\n",
    "api = twitter_setup()\n",
    "tweets = api.user_timeline(USER_TO_SLURP, count=200)\n",
    "\n",
    "print(\"Number of tweets slurped from @{}: {}\".format(USER_TO_SLURP, len(tweets)))\n",
    "\n",
    "# the below is just for looking at the attributes available for a Tweet object\n",
    "print(dir(tweets[0]))\n"
   ]
  },
  {
   "cell_type": "code",
   "execution_count": 114,
   "metadata": {},
   "outputs": [
    {
     "name": "stdout",
     "output_type": "stream",
     "text": [
      "Status(_api=<tweepy.api.API object at 0x1a16c41898>, _json={'created_at': 'Fri Jan 05 05:25:53 +0000 2018', 'id': 949149932874752000, 'id_str': '949149932874752000', 'text': '¡Para mí!Súper sorteo de 4 tarjetas de regalo de Repsol! gracias a #HappyWeeksAppMiVodafone https://t.co/eYBgmKg1yv', 'truncated': False, 'entities': {'hashtags': [{'text': 'HappyWeeksAppMiVodafone', 'indices': [67, 91]}], 'symbols': [], 'user_mentions': [], 'urls': [{'url': 'https://t.co/eYBgmKg1yv', 'expanded_url': 'http://bit.ly/HappyWeeksVF29', 'display_url': 'bit.ly/HappyWeeksVF29', 'indices': [92, 115]}]}, 'source': '<a href=\"http://twitter.com/download/android\" rel=\"nofollow\">Twitter for Android</a>', 'in_reply_to_status_id': None, 'in_reply_to_status_id_str': None, 'in_reply_to_user_id': None, 'in_reply_to_user_id_str': None, 'in_reply_to_screen_name': None, 'user': {'id': 2565067900, 'id_str': '2565067900', 'name': 'Pedrona Mir', 'screen_name': 'MirPedrona', 'location': 'sa pobla ', 'description': 'Llicenciada en Dret per UIB , opositora a Judicatura', 'url': None, 'entities': {'description': {'urls': []}}, 'protected': False, 'followers_count': 65, 'friends_count': 386, 'listed_count': 1, 'created_at': 'Mon May 26 10:26:36 +0000 2014', 'favourites_count': 25, 'utc_offset': None, 'time_zone': None, 'geo_enabled': False, 'verified': False, 'statuses_count': 22, 'lang': 'es', 'contributors_enabled': False, 'is_translator': False, 'is_translation_enabled': False, 'profile_background_color': 'C0DEED', 'profile_background_image_url': 'http://abs.twimg.com/images/themes/theme1/bg.png', 'profile_background_image_url_https': 'https://abs.twimg.com/images/themes/theme1/bg.png', 'profile_background_tile': False, 'profile_image_url': 'http://pbs.twimg.com/profile_images/471396311305293824/6Po3j-w-_normal.jpeg', 'profile_image_url_https': 'https://pbs.twimg.com/profile_images/471396311305293824/6Po3j-w-_normal.jpeg', 'profile_banner_url': 'https://pbs.twimg.com/profile_banners/2565067900/1401224667', 'profile_link_color': '1DA1F2', 'profile_sidebar_border_color': 'C0DEED', 'profile_sidebar_fill_color': 'DDEEF6', 'profile_text_color': '333333', 'profile_use_background_image': True, 'has_extended_profile': False, 'default_profile': True, 'default_profile_image': False, 'following': True, 'follow_request_sent': False, 'notifications': False, 'translator_type': 'none'}, 'geo': None, 'coordinates': None, 'place': None, 'contributors': None, 'is_quote_status': False, 'retweet_count': 0, 'favorite_count': 0, 'favorited': False, 'retweeted': False, 'possibly_sensitive': False, 'lang': 'es'}, created_at=datetime.datetime(2018, 1, 5, 5, 25, 53), id=949149932874752000, id_str='949149932874752000', text='¡Para mí!Súper sorteo de 4 tarjetas de regalo de Repsol! gracias a #HappyWeeksAppMiVodafone https://t.co/eYBgmKg1yv', truncated=False, entities={'hashtags': [{'text': 'HappyWeeksAppMiVodafone', 'indices': [67, 91]}], 'symbols': [], 'user_mentions': [], 'urls': [{'url': 'https://t.co/eYBgmKg1yv', 'expanded_url': 'http://bit.ly/HappyWeeksVF29', 'display_url': 'bit.ly/HappyWeeksVF29', 'indices': [92, 115]}]}, source='Twitter for Android', source_url='http://twitter.com/download/android', in_reply_to_status_id=None, in_reply_to_status_id_str=None, in_reply_to_user_id=None, in_reply_to_user_id_str=None, in_reply_to_screen_name=None, author=User(_api=<tweepy.api.API object at 0x1a16c41898>, _json={'id': 2565067900, 'id_str': '2565067900', 'name': 'Pedrona Mir', 'screen_name': 'MirPedrona', 'location': 'sa pobla ', 'description': 'Llicenciada en Dret per UIB , opositora a Judicatura', 'url': None, 'entities': {'description': {'urls': []}}, 'protected': False, 'followers_count': 65, 'friends_count': 386, 'listed_count': 1, 'created_at': 'Mon May 26 10:26:36 +0000 2014', 'favourites_count': 25, 'utc_offset': None, 'time_zone': None, 'geo_enabled': False, 'verified': False, 'statuses_count': 22, 'lang': 'es', 'contributors_enabled': False, 'is_translator': False, 'is_translation_enabled': False, 'profile_background_color': 'C0DEED', 'profile_background_image_url': 'http://abs.twimg.com/images/themes/theme1/bg.png', 'profile_background_image_url_https': 'https://abs.twimg.com/images/themes/theme1/bg.png', 'profile_background_tile': False, 'profile_image_url': 'http://pbs.twimg.com/profile_images/471396311305293824/6Po3j-w-_normal.jpeg', 'profile_image_url_https': 'https://pbs.twimg.com/profile_images/471396311305293824/6Po3j-w-_normal.jpeg', 'profile_banner_url': 'https://pbs.twimg.com/profile_banners/2565067900/1401224667', 'profile_link_color': '1DA1F2', 'profile_sidebar_border_color': 'C0DEED', 'profile_sidebar_fill_color': 'DDEEF6', 'profile_text_color': '333333', 'profile_use_background_image': True, 'has_extended_profile': False, 'default_profile': True, 'default_profile_image': False, 'following': True, 'follow_request_sent': False, 'notifications': False, 'translator_type': 'none'}, id=2565067900, id_str='2565067900', name='Pedrona Mir', screen_name='MirPedrona', location='sa pobla ', description='Llicenciada en Dret per UIB , opositora a Judicatura', url=None, entities={'description': {'urls': []}}, protected=False, followers_count=65, friends_count=386, listed_count=1, created_at=datetime.datetime(2014, 5, 26, 10, 26, 36), favourites_count=25, utc_offset=None, time_zone=None, geo_enabled=False, verified=False, statuses_count=22, lang='es', contributors_enabled=False, is_translator=False, is_translation_enabled=False, profile_background_color='C0DEED', profile_background_image_url='http://abs.twimg.com/images/themes/theme1/bg.png', profile_background_image_url_https='https://abs.twimg.com/images/themes/theme1/bg.png', profile_background_tile=False, profile_image_url='http://pbs.twimg.com/profile_images/471396311305293824/6Po3j-w-_normal.jpeg', profile_image_url_https='https://pbs.twimg.com/profile_images/471396311305293824/6Po3j-w-_normal.jpeg', profile_banner_url='https://pbs.twimg.com/profile_banners/2565067900/1401224667', profile_link_color='1DA1F2', profile_sidebar_border_color='C0DEED', profile_sidebar_fill_color='DDEEF6', profile_text_color='333333', profile_use_background_image=True, has_extended_profile=False, default_profile=True, default_profile_image=False, following=True, follow_request_sent=False, notifications=False, translator_type='none'), user=User(_api=<tweepy.api.API object at 0x1a16c41898>, _json={'id': 2565067900, 'id_str': '2565067900', 'name': 'Pedrona Mir', 'screen_name': 'MirPedrona', 'location': 'sa pobla ', 'description': 'Llicenciada en Dret per UIB , opositora a Judicatura', 'url': None, 'entities': {'description': {'urls': []}}, 'protected': False, 'followers_count': 65, 'friends_count': 386, 'listed_count': 1, 'created_at': 'Mon May 26 10:26:36 +0000 2014', 'favourites_count': 25, 'utc_offset': None, 'time_zone': None, 'geo_enabled': False, 'verified': False, 'statuses_count': 22, 'lang': 'es', 'contributors_enabled': False, 'is_translator': False, 'is_translation_enabled': False, 'profile_background_color': 'C0DEED', 'profile_background_image_url': 'http://abs.twimg.com/images/themes/theme1/bg.png', 'profile_background_image_url_https': 'https://abs.twimg.com/images/themes/theme1/bg.png', 'profile_background_tile': False, 'profile_image_url': 'http://pbs.twimg.com/profile_images/471396311305293824/6Po3j-w-_normal.jpeg', 'profile_image_url_https': 'https://pbs.twimg.com/profile_images/471396311305293824/6Po3j-w-_normal.jpeg', 'profile_banner_url': 'https://pbs.twimg.com/profile_banners/2565067900/1401224667', 'profile_link_color': '1DA1F2', 'profile_sidebar_border_color': 'C0DEED', 'profile_sidebar_fill_color': 'DDEEF6', 'profile_text_color': '333333', 'profile_use_background_image': True, 'has_extended_profile': False, 'default_profile': True, 'default_profile_image': False, 'following': True, 'follow_request_sent': False, 'notifications': False, 'translator_type': 'none'}, id=2565067900, id_str='2565067900', name='Pedrona Mir', screen_name='MirPedrona', location='sa pobla ', description='Llicenciada en Dret per UIB , opositora a Judicatura', url=None, entities={'description': {'urls': []}}, protected=False, followers_count=65, friends_count=386, listed_count=1, created_at=datetime.datetime(2014, 5, 26, 10, 26, 36), favourites_count=25, utc_offset=None, time_zone=None, geo_enabled=False, verified=False, statuses_count=22, lang='es', contributors_enabled=False, is_translator=False, is_translation_enabled=False, profile_background_color='C0DEED', profile_background_image_url='http://abs.twimg.com/images/themes/theme1/bg.png', profile_background_image_url_https='https://abs.twimg.com/images/themes/theme1/bg.png', profile_background_tile=False, profile_image_url='http://pbs.twimg.com/profile_images/471396311305293824/6Po3j-w-_normal.jpeg', profile_image_url_https='https://pbs.twimg.com/profile_images/471396311305293824/6Po3j-w-_normal.jpeg', profile_banner_url='https://pbs.twimg.com/profile_banners/2565067900/1401224667', profile_link_color='1DA1F2', profile_sidebar_border_color='C0DEED', profile_sidebar_fill_color='DDEEF6', profile_text_color='333333', profile_use_background_image=True, has_extended_profile=False, default_profile=True, default_profile_image=False, following=True, follow_request_sent=False, notifications=False, translator_type='none'), geo=None, coordinates=None, place=None, contributors=None, is_quote_status=False, retweet_count=0, favorite_count=0, favorited=False, retweeted=False, possibly_sensitive=False, lang='es')\n"
     ]
    }
   ],
   "source": [
    "print(tweets[0])"
   ]
  },
  {
   "cell_type": "code",
   "execution_count": 115,
   "metadata": {},
   "outputs": [
    {
     "data": {
      "text/html": [
       "<div>\n",
       "<style>\n",
       "    .dataframe thead tr:only-child th {\n",
       "        text-align: right;\n",
       "    }\n",
       "\n",
       "    .dataframe thead th {\n",
       "        text-align: left;\n",
       "    }\n",
       "\n",
       "    .dataframe tbody tr th {\n",
       "        vertical-align: top;\n",
       "    }\n",
       "</style>\n",
       "<table border=\"1\" class=\"dataframe\">\n",
       "  <thead>\n",
       "    <tr style=\"text-align: right;\">\n",
       "      <th></th>\n",
       "      <th>Tweets</th>\n",
       "    </tr>\n",
       "  </thead>\n",
       "  <tbody>\n",
       "    <tr>\n",
       "      <th>0</th>\n",
       "      <td>¡Para mí!Súper sorteo de 4 tarjetas de regalo ...</td>\n",
       "    </tr>\n",
       "    <tr>\n",
       "      <th>1</th>\n",
       "      <td>RT @trobing: objecto perdido - CUSSETA - Carre...</td>\n",
       "    </tr>\n",
       "    <tr>\n",
       "      <th>2</th>\n",
       "      <td>@BonomoSabri , enhorabuena!!! Que gran alegria...</td>\n",
       "    </tr>\n",
       "    <tr>\n",
       "      <th>3</th>\n",
       "      <td>RT @BonomoSabri: Ahora si esta lista! 💪 https:...</td>\n",
       "    </tr>\n",
       "    <tr>\n",
       "      <th>4</th>\n",
       "      <td>Entrevista al DIARIO DE MALLORCA #pedronareto ...</td>\n",
       "    </tr>\n",
       "    <tr>\n",
       "      <th>5</th>\n",
       "      <td>. Busco silla de ruedas, en buen estado y esco...</td>\n",
       "    </tr>\n",
       "    <tr>\n",
       "      <th>6</th>\n",
       "      <td>@elcorteinglesac sólo han pasado 10 dias des d...</td>\n",
       "    </tr>\n",
       "    <tr>\n",
       "      <th>7</th>\n",
       "      <td>@elcorteinglesac el punto 6.1 de la base de da...</td>\n",
       "    </tr>\n",
       "    <tr>\n",
       "      <th>8</th>\n",
       "      <td>@elcorteinglesac @pumuky62. No recibi nungun t...</td>\n",
       "    </tr>\n",
       "    <tr>\n",
       "      <th>9</th>\n",
       "      <td>@elcorteinglesac, acabo de ver el tweet. Hay a...</td>\n",
       "    </tr>\n",
       "  </tbody>\n",
       "</table>\n",
       "</div>"
      ],
      "text/plain": [
       "                                              Tweets\n",
       "0  ¡Para mí!Súper sorteo de 4 tarjetas de regalo ...\n",
       "1  RT @trobing: objecto perdido - CUSSETA - Carre...\n",
       "2  @BonomoSabri , enhorabuena!!! Que gran alegria...\n",
       "3  RT @BonomoSabri: Ahora si esta lista! 💪 https:...\n",
       "4  Entrevista al DIARIO DE MALLORCA #pedronareto ...\n",
       "5  . Busco silla de ruedas, en buen estado y esco...\n",
       "6  @elcorteinglesac sólo han pasado 10 dias des d...\n",
       "7  @elcorteinglesac el punto 6.1 de la base de da...\n",
       "8  @elcorteinglesac @pumuky62. No recibi nungun t...\n",
       "9  @elcorteinglesac, acabo de ver el tweet. Hay a..."
      ]
     },
     "execution_count": 115,
     "metadata": {},
     "output_type": "execute_result"
    }
   ],
   "source": [
    "# adding tweets to a DataFrame\n",
    "dataset = pd.DataFrame(data = [tweet.text for tweet in tweets], columns=['Tweets'])\n",
    "dataset.head(10) # showing ten most recent"
   ]
  },
  {
   "cell_type": "code",
   "execution_count": 116,
   "metadata": {},
   "outputs": [
    {
     "data": {
      "text/html": [
       "<div>\n",
       "<style>\n",
       "    .dataframe thead tr:only-child th {\n",
       "        text-align: right;\n",
       "    }\n",
       "\n",
       "    .dataframe thead th {\n",
       "        text-align: left;\n",
       "    }\n",
       "\n",
       "    .dataframe tbody tr th {\n",
       "        vertical-align: top;\n",
       "    }\n",
       "</style>\n",
       "<table border=\"1\" class=\"dataframe\">\n",
       "  <thead>\n",
       "    <tr style=\"text-align: right;\">\n",
       "      <th></th>\n",
       "      <th>Tweets</th>\n",
       "      <th>len</th>\n",
       "      <th>ID</th>\n",
       "      <th>Date</th>\n",
       "      <th>Source</th>\n",
       "      <th>Likes</th>\n",
       "      <th>RTs</th>\n",
       "      <th>screen_name</th>\n",
       "      <th>coordinates</th>\n",
       "    </tr>\n",
       "  </thead>\n",
       "  <tbody>\n",
       "    <tr>\n",
       "      <th>0</th>\n",
       "      <td>¡Para mí!Súper sorteo de 4 tarjetas de regalo ...</td>\n",
       "      <td>115</td>\n",
       "      <td>949149932874752000</td>\n",
       "      <td>2018-01-05 05:25:53</td>\n",
       "      <td>Twitter for Android</td>\n",
       "      <td>0</td>\n",
       "      <td>0</td>\n",
       "      <td>MirPedrona</td>\n",
       "      <td>None</td>\n",
       "    </tr>\n",
       "    <tr>\n",
       "      <th>1</th>\n",
       "      <td>RT @trobing: objecto perdido - CUSSETA - Carre...</td>\n",
       "      <td>138</td>\n",
       "      <td>776773073706086400</td>\n",
       "      <td>2016-09-16 13:21:47</td>\n",
       "      <td>Twitter for Android</td>\n",
       "      <td>0</td>\n",
       "      <td>2</td>\n",
       "      <td>MirPedrona</td>\n",
       "      <td>None</td>\n",
       "    </tr>\n",
       "    <tr>\n",
       "      <th>2</th>\n",
       "      <td>@BonomoSabri , enhorabuena!!! Que gran alegria...</td>\n",
       "      <td>60</td>\n",
       "      <td>773988112208957441</td>\n",
       "      <td>2016-09-08 20:55:20</td>\n",
       "      <td>Twitter for Android</td>\n",
       "      <td>1</td>\n",
       "      <td>0</td>\n",
       "      <td>MirPedrona</td>\n",
       "      <td>None</td>\n",
       "    </tr>\n",
       "    <tr>\n",
       "      <th>3</th>\n",
       "      <td>RT @BonomoSabri: Ahora si esta lista! 💪 https:...</td>\n",
       "      <td>63</td>\n",
       "      <td>773987754208292864</td>\n",
       "      <td>2016-09-08 20:53:55</td>\n",
       "      <td>Twitter for Android</td>\n",
       "      <td>0</td>\n",
       "      <td>323</td>\n",
       "      <td>MirPedrona</td>\n",
       "      <td>None</td>\n",
       "    </tr>\n",
       "    <tr>\n",
       "      <th>4</th>\n",
       "      <td>Entrevista al DIARIO DE MALLORCA #pedronareto ...</td>\n",
       "      <td>118</td>\n",
       "      <td>724900732260982785</td>\n",
       "      <td>2016-04-26 09:59:37</td>\n",
       "      <td>Twitter for Android</td>\n",
       "      <td>3</td>\n",
       "      <td>0</td>\n",
       "      <td>MirPedrona</td>\n",
       "      <td>None</td>\n",
       "    </tr>\n",
       "    <tr>\n",
       "      <th>5</th>\n",
       "      <td>. Busco silla de ruedas, en buen estado y esco...</td>\n",
       "      <td>76</td>\n",
       "      <td>606117571012775936</td>\n",
       "      <td>2015-06-03 15:17:44</td>\n",
       "      <td>Twitter for Android</td>\n",
       "      <td>0</td>\n",
       "      <td>0</td>\n",
       "      <td>MirPedrona</td>\n",
       "      <td>None</td>\n",
       "    </tr>\n",
       "    <tr>\n",
       "      <th>6</th>\n",
       "      <td>@elcorteinglesac sólo han pasado 10 dias des d...</td>\n",
       "      <td>137</td>\n",
       "      <td>570310494701137922</td>\n",
       "      <td>2015-02-24 19:53:12</td>\n",
       "      <td>Twitter for Android</td>\n",
       "      <td>0</td>\n",
       "      <td>0</td>\n",
       "      <td>MirPedrona</td>\n",
       "      <td>None</td>\n",
       "    </tr>\n",
       "    <tr>\n",
       "      <th>7</th>\n",
       "      <td>@elcorteinglesac el punto 6.1 de la base de da...</td>\n",
       "      <td>126</td>\n",
       "      <td>570310230288048129</td>\n",
       "      <td>2015-02-24 19:52:09</td>\n",
       "      <td>Twitter for Android</td>\n",
       "      <td>0</td>\n",
       "      <td>0</td>\n",
       "      <td>MirPedrona</td>\n",
       "      <td>None</td>\n",
       "    </tr>\n",
       "    <tr>\n",
       "      <th>8</th>\n",
       "      <td>@elcorteinglesac @pumuky62. No recibi nungun t...</td>\n",
       "      <td>133</td>\n",
       "      <td>570304138766106626</td>\n",
       "      <td>2015-02-24 19:27:57</td>\n",
       "      <td>Twitter for Android</td>\n",
       "      <td>0</td>\n",
       "      <td>0</td>\n",
       "      <td>MirPedrona</td>\n",
       "      <td>None</td>\n",
       "    </tr>\n",
       "    <tr>\n",
       "      <th>9</th>\n",
       "      <td>@elcorteinglesac, acabo de ver el tweet. Hay a...</td>\n",
       "      <td>137</td>\n",
       "      <td>570295928252469251</td>\n",
       "      <td>2015-02-24 18:55:19</td>\n",
       "      <td>Twitter for Android</td>\n",
       "      <td>0</td>\n",
       "      <td>0</td>\n",
       "      <td>MirPedrona</td>\n",
       "      <td>None</td>\n",
       "    </tr>\n",
       "  </tbody>\n",
       "</table>\n",
       "</div>"
      ],
      "text/plain": [
       "                                              Tweets  len                  ID  \\\n",
       "0  ¡Para mí!Súper sorteo de 4 tarjetas de regalo ...  115  949149932874752000   \n",
       "1  RT @trobing: objecto perdido - CUSSETA - Carre...  138  776773073706086400   \n",
       "2  @BonomoSabri , enhorabuena!!! Que gran alegria...   60  773988112208957441   \n",
       "3  RT @BonomoSabri: Ahora si esta lista! 💪 https:...   63  773987754208292864   \n",
       "4  Entrevista al DIARIO DE MALLORCA #pedronareto ...  118  724900732260982785   \n",
       "5  . Busco silla de ruedas, en buen estado y esco...   76  606117571012775936   \n",
       "6  @elcorteinglesac sólo han pasado 10 dias des d...  137  570310494701137922   \n",
       "7  @elcorteinglesac el punto 6.1 de la base de da...  126  570310230288048129   \n",
       "8  @elcorteinglesac @pumuky62. No recibi nungun t...  133  570304138766106626   \n",
       "9  @elcorteinglesac, acabo de ver el tweet. Hay a...  137  570295928252469251   \n",
       "\n",
       "                 Date               Source  Likes  RTs screen_name coordinates  \n",
       "0 2018-01-05 05:25:53  Twitter for Android      0    0  MirPedrona        None  \n",
       "1 2016-09-16 13:21:47  Twitter for Android      0    2  MirPedrona        None  \n",
       "2 2016-09-08 20:55:20  Twitter for Android      1    0  MirPedrona        None  \n",
       "3 2016-09-08 20:53:55  Twitter for Android      0  323  MirPedrona        None  \n",
       "4 2016-04-26 09:59:37  Twitter for Android      3    0  MirPedrona        None  \n",
       "5 2015-06-03 15:17:44  Twitter for Android      0    0  MirPedrona        None  \n",
       "6 2015-02-24 19:53:12  Twitter for Android      0    0  MirPedrona        None  \n",
       "7 2015-02-24 19:52:09  Twitter for Android      0    0  MirPedrona        None  \n",
       "8 2015-02-24 19:27:57  Twitter for Android      0    0  MirPedrona        None  \n",
       "9 2015-02-24 18:55:19  Twitter for Android      0    0  MirPedrona        None  "
      ]
     },
     "execution_count": 116,
     "metadata": {},
     "output_type": "execute_result"
    }
   ],
   "source": [
    "# adding more pertinent details to the dataset\n",
    "dataset['len'] = np.array([len(tweet.text) for tweet in tweets]) # length of tweet\n",
    "dataset['ID'] = np.array([tweet.id for tweet in tweets]) # unique tweet id\n",
    "dataset['Date'] = np.array([tweet.created_at for tweet in tweets])\n",
    "dataset['Source'] = np.array([tweet.source for tweet in tweets]) # client used to post\n",
    "dataset['Likes'] = np.array([tweet.favorite_count for tweet in tweets])\n",
    "dataset['RTs'] = np.array([tweet.retweet_count for tweet in tweets])\n",
    "dataset['screen_name'] = np.array([tweet.user.screen_name for tweet in tweets])\n",
    "dataset['coordinates'] = np.array([tweet.coordinates for tweet in tweets])\n",
    "\n",
    "dataset.head(10) # showing ten most recent"
   ]
  },
  {
   "cell_type": "code",
   "execution_count": 117,
   "metadata": {},
   "outputs": [
    {
     "data": {
      "text/html": [
       "<div>\n",
       "<style>\n",
       "    .dataframe thead tr:only-child th {\n",
       "        text-align: right;\n",
       "    }\n",
       "\n",
       "    .dataframe thead th {\n",
       "        text-align: left;\n",
       "    }\n",
       "\n",
       "    .dataframe tbody tr th {\n",
       "        vertical-align: top;\n",
       "    }\n",
       "</style>\n",
       "<table border=\"1\" class=\"dataframe\">\n",
       "  <thead>\n",
       "    <tr style=\"text-align: right;\">\n",
       "      <th></th>\n",
       "      <th>Tweets</th>\n",
       "      <th>len</th>\n",
       "      <th>ID</th>\n",
       "      <th>Date</th>\n",
       "      <th>Source</th>\n",
       "      <th>Likes</th>\n",
       "      <th>RTs</th>\n",
       "      <th>screen_name</th>\n",
       "      <th>coordinates</th>\n",
       "    </tr>\n",
       "  </thead>\n",
       "  <tbody>\n",
       "  </tbody>\n",
       "</table>\n",
       "</div>"
      ],
      "text/plain": [
       "Empty DataFrame\n",
       "Columns: [Tweets, len, ID, Date, Source, Likes, RTs, screen_name, coordinates]\n",
       "Index: []"
      ]
     },
     "execution_count": 117,
     "metadata": {},
     "output_type": "execute_result"
    }
   ],
   "source": [
    "likes = dataset[dataset.screen_name == USER_TO_SLURP].sort_values('Likes', ascending=False)\n",
    "likes.head(10)"
   ]
  },
  {
   "cell_type": "code",
   "execution_count": 118,
   "metadata": {},
   "outputs": [
    {
     "data": {
      "text/plain": [
       "<matplotlib.axes._subplots.AxesSubplot at 0x1a16a931d0>"
      ]
     },
     "execution_count": 118,
     "metadata": {},
     "output_type": "execute_result"
    },
    {
     "data": {
      "image/png": "[encoded data removed]",
      "text/plain": [
       "<matplotlib.figure.Figure at 0x1a1696fe48>"
      ]
     },
     "metadata": {},
     "output_type": "display_data"
    }
   ],
   "source": [
    "tLikes = pd.Series(data=dataset['Likes'].values, index=dataset['Date'])\n",
    "tLikes.plot(figsize=(16,4))"
   ]
  },
  {
   "cell_type": "code",
   "execution_count": 119,
   "metadata": {},
   "outputs": [
    {
     "data": {
      "text/html": [
       "<div>\n",
       "<style>\n",
       "    .dataframe thead tr:only-child th {\n",
       "        text-align: right;\n",
       "    }\n",
       "\n",
       "    .dataframe thead th {\n",
       "        text-align: left;\n",
       "    }\n",
       "\n",
       "    .dataframe tbody tr th {\n",
       "        vertical-align: top;\n",
       "    }\n",
       "</style>\n",
       "<table border=\"1\" class=\"dataframe\">\n",
       "  <thead>\n",
       "    <tr style=\"text-align: right;\">\n",
       "      <th></th>\n",
       "      <th>Tweets</th>\n",
       "      <th>len</th>\n",
       "      <th>ID</th>\n",
       "      <th>Date</th>\n",
       "      <th>Source</th>\n",
       "      <th>Likes</th>\n",
       "      <th>RTs</th>\n",
       "      <th>screen_name</th>\n",
       "      <th>coordinates</th>\n",
       "    </tr>\n",
       "  </thead>\n",
       "  <tbody>\n",
       "  </tbody>\n",
       "</table>\n",
       "</div>"
      ],
      "text/plain": [
       "Empty DataFrame\n",
       "Columns: [Tweets, len, ID, Date, Source, Likes, RTs, screen_name, coordinates]\n",
       "Index: []"
      ]
     },
     "execution_count": 119,
     "metadata": {},
     "output_type": "execute_result"
    }
   ],
   "source": [
    "top = dataset[dataset.screen_name == USER_TO_SLURP].sort_values('RTs', ascending=False) # showing most RTs\n",
    "top.head(10)"
   ]
  },
  {
   "cell_type": "code",
   "execution_count": 120,
   "metadata": {},
   "outputs": [
    {
     "data": {
      "text/plain": [
       "<matplotlib.axes._subplots.AxesSubplot at 0x1a16d76a58>"
      ]
     },
     "execution_count": 120,
     "metadata": {},
     "output_type": "execute_result"
    },
    {
     "data": {
      "image/png": "[encoded data removed]",
      "text/plain": [
       "<matplotlib.figure.Figure at 0x1a169583c8>"
      ]
     },
     "metadata": {},
     "output_type": "display_data"
    }
   ],
   "source": [
    "tRTs = pd.Series(data=dataset['RTs'].values, index=dataset['Date'])\n",
    "tRTs.plot(figsize=(16,4))"
   ]
  },
  {
   "cell_type": "code",
   "execution_count": 132,
   "metadata": {},
   "outputs": [
    {
     "name": "stdout",
     "output_type": "stream",
     "text": [
      "100\n"
     ]
    }
   ],
   "source": [
    "hashtag = '#mallorca'\n",
    "hashTweetsCursor = tweepy.Cursor(api.search, q=hashtag).items(100)\n",
    "hashTweets = []\n",
    "\n",
    "# Open/create a file to append data to\n",
    "csvFile = open('result.csv', 'a')\n",
    "\n",
    "#Use csv writer\n",
    "csvWriter = csv.writer(csvFile)\n",
    "\n",
    "for tweet in hashTweetsCursor:\n",
    "   #print (tweet.created_at, tweet.text, tweet.lang)\n",
    "    # Write a row to the CSV file. I use encode UTF-8\n",
    "    #csvWriter.writerow([tweet.created_at, tweet.text.encode('utf-8')])\n",
    "    #print (tweet.created_at, tweet.text)\n",
    "    hashTweets.append(tweet)\n",
    "\n",
    "print(len(hashTweets))\n",
    "csvFile.close()"
   ]
  },
  {
   "cell_type": "code",
   "execution_count": 126,
   "metadata": {
    "scrolled": true
   },
   "outputs": [
    {
     "data": {
      "text/html": [
       "<div>\n",
       "<style>\n",
       "    .dataframe thead tr:only-child th {\n",
       "        text-align: right;\n",
       "    }\n",
       "\n",
       "    .dataframe thead th {\n",
       "        text-align: left;\n",
       "    }\n",
       "\n",
       "    .dataframe tbody tr th {\n",
       "        vertical-align: top;\n",
       "    }\n",
       "</style>\n",
       "<table border=\"1\" class=\"dataframe\">\n",
       "  <thead>\n",
       "    <tr style=\"text-align: right;\">\n",
       "      <th></th>\n",
       "      <th>tweetID</th>\n",
       "      <th>tweetText</th>\n",
       "      <th>tweetRetweetCt</th>\n",
       "      <th>tweetFavoriteCt</th>\n",
       "      <th>tweetSource</th>\n",
       "      <th>tweetCreated</th>\n",
       "      <th>userID</th>\n",
       "      <th>userScreen</th>\n",
       "      <th>userName</th>\n",
       "      <th>userCreateDt</th>\n",
       "      <th>userDesc</th>\n",
       "      <th>userFollowerCt</th>\n",
       "      <th>userFriendsCt</th>\n",
       "      <th>userLocation</th>\n",
       "      <th>userTimezone</th>\n",
       "    </tr>\n",
       "  </thead>\n",
       "  <tbody>\n",
       "    <tr>\n",
       "      <th>0</th>\n",
       "      <td>963834550618083333</td>\n",
       "      <td>RT @lostesdefran: ¿Quién se va a ver @Juliaenl...</td>\n",
       "      <td>5</td>\n",
       "      <td>0</td>\n",
       "      <td>Twitter for Android</td>\n",
       "      <td>2018-02-14 17:57:18</td>\n",
       "      <td>49888297</td>\n",
       "      <td>jcenrique</td>\n",
       "      <td>Juan Carlos Enrique</td>\n",
       "      <td>2009-06-23 04:49:52</td>\n",
       "      <td>Hago radio en Atresmedia. Dirijo Onda Cero, Eu...</td>\n",
       "      <td>2099</td>\n",
       "      <td>1540</td>\n",
       "      <td>Palma de Mallorca, Spain</td>\n",
       "      <td>Madrid</td>\n",
       "    </tr>\n",
       "    <tr>\n",
       "      <th>1</th>\n",
       "      <td>963834299802882049</td>\n",
       "      <td>RT IMEPalma: https://t.co/0XzoNxTS4D #Mallorca...</td>\n",
       "      <td>0</td>\n",
       "      <td>0</td>\n",
       "      <td>IFTTT</td>\n",
       "      <td>2018-02-14 17:56:18</td>\n",
       "      <td>768022853350465536</td>\n",
       "      <td>Informatico_PM</td>\n",
       "      <td>InformaticoPalmadeMa</td>\n",
       "      <td>2016-08-23 09:51:32</td>\n",
       "      <td>Informático a domicilio Palma de Mallorca.Prob...</td>\n",
       "      <td>5628</td>\n",
       "      <td>6148</td>\n",
       "      <td>Palma, España</td>\n",
       "      <td>Madrid</td>\n",
       "    </tr>\n",
       "    <tr>\n",
       "      <th>2</th>\n",
       "      <td>963833822080053248</td>\n",
       "      <td>RT @Informatico_PM: RT ajuntpalma: https://t.c...</td>\n",
       "      <td>1</td>\n",
       "      <td>0</td>\n",
       "      <td>Twitter for Android</td>\n",
       "      <td>2018-02-14 17:54:25</td>\n",
       "      <td>957281933100281856</td>\n",
       "      <td>mallorcahockey</td>\n",
       "      <td>mallorcahockey</td>\n",
       "      <td>2018-01-27 15:59:33</td>\n",
       "      <td>Twitter oficial de Mallorca Hockey Club. Equip...</td>\n",
       "      <td>54</td>\n",
       "      <td>217</td>\n",
       "      <td>Mallorca</td>\n",
       "      <td>None</td>\n",
       "    </tr>\n",
       "    <tr>\n",
       "      <th>3</th>\n",
       "      <td>963833788152401920</td>\n",
       "      <td>RT @Informatico_PM: RT palmajove: https://t.co...</td>\n",
       "      <td>1</td>\n",
       "      <td>0</td>\n",
       "      <td>Twitter for Android</td>\n",
       "      <td>2018-02-14 17:54:16</td>\n",
       "      <td>957281933100281856</td>\n",
       "      <td>mallorcahockey</td>\n",
       "      <td>mallorcahockey</td>\n",
       "      <td>2018-01-27 15:59:33</td>\n",
       "      <td>Twitter oficial de Mallorca Hockey Club. Equip...</td>\n",
       "      <td>54</td>\n",
       "      <td>217</td>\n",
       "      <td>Mallorca</td>\n",
       "      <td>None</td>\n",
       "    </tr>\n",
       "    <tr>\n",
       "      <th>4</th>\n",
       "      <td>963833716681465856</td>\n",
       "      <td>RT @Informatico_PM: RT IMEPalma: https://t.co/...</td>\n",
       "      <td>1</td>\n",
       "      <td>0</td>\n",
       "      <td>Twitter for Android</td>\n",
       "      <td>2018-02-14 17:53:59</td>\n",
       "      <td>957281933100281856</td>\n",
       "      <td>mallorcahockey</td>\n",
       "      <td>mallorcahockey</td>\n",
       "      <td>2018-01-27 15:59:33</td>\n",
       "      <td>Twitter oficial de Mallorca Hockey Club. Equip...</td>\n",
       "      <td>54</td>\n",
       "      <td>217</td>\n",
       "      <td>Mallorca</td>\n",
       "      <td>None</td>\n",
       "    </tr>\n",
       "  </tbody>\n",
       "</table>\n",
       "</div>"
      ],
      "text/plain": [
       "              tweetID                                          tweetText  \\\n",
       "0  963834550618083333  RT @lostesdefran: ¿Quién se va a ver @Juliaenl...   \n",
       "1  963834299802882049  RT IMEPalma: https://t.co/0XzoNxTS4D #Mallorca...   \n",
       "2  963833822080053248  RT @Informatico_PM: RT ajuntpalma: https://t.c...   \n",
       "3  963833788152401920  RT @Informatico_PM: RT palmajove: https://t.co...   \n",
       "4  963833716681465856  RT @Informatico_PM: RT IMEPalma: https://t.co/...   \n",
       "\n",
       "   tweetRetweetCt  tweetFavoriteCt          tweetSource        tweetCreated  \\\n",
       "0               5                0  Twitter for Android 2018-02-14 17:57:18   \n",
       "1               0                0                IFTTT 2018-02-14 17:56:18   \n",
       "2               1                0  Twitter for Android 2018-02-14 17:54:25   \n",
       "3               1                0  Twitter for Android 2018-02-14 17:54:16   \n",
       "4               1                0  Twitter for Android 2018-02-14 17:53:59   \n",
       "\n",
       "               userID      userScreen              userName  \\\n",
       "0            49888297       jcenrique   Juan Carlos Enrique   \n",
       "1  768022853350465536  Informatico_PM  InformaticoPalmadeMa   \n",
       "2  957281933100281856  mallorcahockey        mallorcahockey   \n",
       "3  957281933100281856  mallorcahockey        mallorcahockey   \n",
       "4  957281933100281856  mallorcahockey        mallorcahockey   \n",
       "\n",
       "         userCreateDt                                           userDesc  \\\n",
       "0 2009-06-23 04:49:52  Hago radio en Atresmedia. Dirijo Onda Cero, Eu...   \n",
       "1 2016-08-23 09:51:32  Informático a domicilio Palma de Mallorca.Prob...   \n",
       "2 2018-01-27 15:59:33  Twitter oficial de Mallorca Hockey Club. Equip...   \n",
       "3 2018-01-27 15:59:33  Twitter oficial de Mallorca Hockey Club. Equip...   \n",
       "4 2018-01-27 15:59:33  Twitter oficial de Mallorca Hockey Club. Equip...   \n",
       "\n",
       "   userFollowerCt  userFriendsCt              userLocation userTimezone  \n",
       "0            2099           1540  Palma de Mallorca, Spain       Madrid  \n",
       "1            5628           6148             Palma, España       Madrid  \n",
       "2              54            217                  Mallorca         None  \n",
       "3              54            217                  Mallorca         None  \n",
       "4              54            217                  Mallorca         None  "
      ]
     },
     "execution_count": 126,
     "metadata": {},
     "output_type": "execute_result"
    }
   ],
   "source": [
    "# Create a function to convert a given list of tweets into a Pandas DataFrame.\n",
    "# The DataFrame will consist of only the values, which I think might be useful for analysis...\n",
    "\n",
    "\n",
    "def toDataFrame(tweets):\n",
    "\n",
    "    DataSet = pd.DataFrame()\n",
    "\n",
    "    DataSet['tweetID'] = [tweet.id for tweet in tweets]\n",
    "    DataSet['tweetText'] = [tweet.text for tweet in tweets]\n",
    "    DataSet['tweetRetweetCt'] = [tweet.retweet_count for tweet \n",
    "    in tweets]\n",
    "    DataSet['tweetFavoriteCt'] = [tweet.favorite_count for tweet \n",
    "    in tweets]\n",
    "    DataSet['tweetSource'] = [tweet.source for tweet in tweets]\n",
    "    DataSet['tweetCreated'] = [tweet.created_at for tweet in tweets]\n",
    "\n",
    "\n",
    "    DataSet['userID'] = [tweet.user.id for tweet in tweets]\n",
    "    DataSet['userScreen'] = [tweet.user.screen_name for tweet \n",
    "    in tweets]\n",
    "    DataSet['userName'] = [tweet.user.name for tweet in tweets]\n",
    "    DataSet['userCreateDt'] = [tweet.user.created_at for tweet \n",
    "    in tweets]\n",
    "    DataSet['userDesc'] = [tweet.user.description for tweet in tweets]\n",
    "    DataSet['userFollowerCt'] = [tweet.user.followers_count for tweet \n",
    "    in tweets]\n",
    "    DataSet['userFriendsCt'] = [tweet.user.friends_count for tweet \n",
    "    in tweets]\n",
    "    DataSet['userLocation'] = [tweet.user.location for tweet in tweets]\n",
    "    DataSet['userTimezone'] = [tweet.user.time_zone for tweet \n",
    "    in tweets]\n",
    "\n",
    "    return DataSet\n",
    "\n",
    "#Pass the tweets list to the above function to create a DataFrame\n",
    "hashDataSet = toDataFrame(hashTweets)\n",
    "# Let's check the top 5 records in the Data Set\n",
    "hashDataSet.head(5)"
   ]
  },
  {
   "cell_type": "code",
   "execution_count": 128,
   "metadata": {},
   "outputs": [
    {
     "name": "stdout",
     "output_type": "stream",
     "text": [
      "Madrid                        28\n",
      "Pacific Time (US & Canada)    13\n",
      "Athens                         8\n",
      "Amsterdam                      5\n",
      "Ljubljana                      3\n",
      "Bern                           2\n",
      "Hawaii                         1\n",
      "Berlin                         1\n",
      "London                         1\n",
      "Paris                          1\n",
      "Name: userTimezone, dtype: int64\n"
     ]
    }
   ],
   "source": [
    "# Count the number of tweets in each time zone and get the first 10\n",
    "tzs = hashDataSet['userTimezone'].value_counts()[:10]\n",
    "print(tzs)"
   ]
  },
  {
   "cell_type": "code",
   "execution_count": 135,
   "metadata": {},
   "outputs": [
    {
     "data": {
      "text/plain": [
       "Text(0.5,1,'Top 10 Timezones tweeting about #mallorca ')"
      ]
     },
     "execution_count": 135,
     "metadata": {},
     "output_type": "execute_result"
    },
    {
     "data": {
      "image/png": "[encoded data removed]",
      "text/plain": [
       "<matplotlib.figure.Figure at 0x1a1992c828>"
      ]
     },
     "metadata": {},
     "output_type": "display_data"
    }
   ],
   "source": [
    "# Create a bar-graph figure of the specified size\n",
    "plot.rcParams['figure.figsize'] = (15, 5)\n",
    "\n",
    "# Plot the Time Zone data as a bar-graph\n",
    "tzs.plot(kind='bar')\n",
    "\n",
    "\n",
    "# Assign labels and title to the graph to make it more presentable\n",
    "plot.xlabel('Timezones')\n",
    "plot.ylabel('Tweet Count')\n",
    "plot.title('Top 10 Timezones tweeting about %s ' %hashtag)"
   ]
  }
 ],
 "metadata": {
  "kernelspec": {
   "display_name": "Python 3",
   "language": "python",
   "name": "python3"
  },
  "language_info": {
   "codemirror_mode": {
    "name": "ipython",
    "version": 3
   },
   "file_extension": ".py",
   "mimetype": "text/x-python",
   "name": "python",
   "nbconvert_exporter": "python",
   "pygments_lexer": "ipython3",
   "version": "3.6.3"
  }
 },
 "nbformat": 4,
 "nbformat_minor": 2
}
